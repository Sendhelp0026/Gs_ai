{
  "nbformat": 4,
  "nbformat_minor": 0,
  "metadata": {
    "colab": {
      "provenance": []
    },
    "kernelspec": {
      "name": "python3",
      "display_name": "Python 3"
    },
    "language_info": {
      "name": "python"
    }
  },
  "cells": [
    {
      "cell_type": "code",
      "execution_count": 1,
      "metadata": {
        "colab": {
          "base_uri": "https://localhost:8080/"
        },
        "id": "pCk7rFa_tP2y",
        "outputId": "eaeed53c-2370-4170-d69f-24243e2e8542"
      },
      "outputs": [
        {
          "output_type": "stream",
          "name": "stdout",
          "text": [
            "Mean Absolute Error (MAE): 0.7831168831168831\n",
            "Mean Squared Error (MSE): 5.3278701298701305\n"
          ]
        }
      ],
      "source": [
        "import pandas as pd\n",
        "from sklearn.model_selection import train_test_split\n",
        "from sklearn.ensemble import RandomForestRegressor\n",
        "from sklearn.metrics import mean_absolute_error, mean_squared_error\n",
        "\n",
        "# Carregando o dataset\n",
        "file_path = 'Electric_Vehicle_Charging_Stations.csv'\n",
        "data = pd.read_csv(file_path)\n",
        "\n",
        "# Substituir valores \"NONE\" por 0 e converter para numérico\n",
        "data['EV DC Fast Count'] = data['EV DC Fast Count'].replace('NONE', 0).astype(int)\n",
        "data['EV Level1 EVSE Num'] = data['EV Level1 EVSE Num'].replace('NONE', 0).astype(int)\n",
        "data['EV Level2 EVSE Num'] = data['EV Level2 EVSE Num'].replace('NONE', 0).astype(int)\n",
        "\n",
        "# Extrair latitude e longitude das colunas geográficas\n",
        "data[['Longitude', 'Latitude']] = data['New Georeferenced Column']\\\n",
        "    .str.extract(r'POINT \\(([^ ]+) ([^ ]+)\\)')\\\n",
        "    .astype(float)\n",
        "\n",
        "# Selecionar as features e o target\n",
        "features = ['EV Level1 EVSE Num', 'EV Level2 EVSE Num', 'Longitude', 'Latitude']\n",
        "target = 'EV DC Fast Count'\n",
        "\n",
        "X = data[features]\n",
        "y = data[target]\n",
        "\n",
        "X_train, X_test, y_train, y_test = train_test_split(X, y, test_size=0.2, random_state=42)\n",
        "\n",
        "model = RandomForestRegressor(n_estimators=100, random_state=42)\n",
        "model.fit(X_train, y_train)\n",
        "\n",
        "# Fazer previsões\n",
        "y_pred = model.predict(X_test)\n",
        "\n",
        "# Avaliar o modelo\n",
        "mae = mean_absolute_error(y_test, y_pred)\n",
        "mse = mean_squared_error(y_test, y_pred)\n",
        "\n",
        "print(f\"Mean Absolute Error (MAE): {mae}\")\n",
        "print(f\"Mean Squared Error (MSE): {mse}\")\n"
      ]
    }
  ]
}
